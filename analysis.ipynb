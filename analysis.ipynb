{
 "cells": [
  {
   "cell_type": "code",
   "execution_count": 5,
   "metadata": {},
   "outputs": [],
   "source": [
    "import pandas as pd\n",
    "import matplotlib.pyplot as plt"
   ]
  },
  {
   "cell_type": "code",
   "execution_count": 6,
   "metadata": {},
   "outputs": [],
   "source": [
    "def _read_fastq(input_file):\n",
    "    # open and read all lines in the fastq file\n",
    "    read_lines = []\n",
    "    with open(input_file, 'r') as fastq_file:\n",
    "        for lines in fastq_file:\n",
    "            read_lines.append(lines)\n",
    "        return read_lines\n"
   ]
  },
  {
   "cell_type": "code",
   "execution_count": 13,
   "metadata": {},
   "outputs": [],
   "source": [
    "def parse_fastq(input_file):\n",
    "    sequence_list = []\n",
    "    fastq_lines = _read_fastq(input_file=input_file)\n",
    "    # break into groups of 4\n",
    "    for line in range(0, len(fastq_lines), 4):\n",
    "        single_sequence = fastq_lines[line:line + 4]\n",
    "        sequence_list.append(single_sequence)\n",
    "    sequence_df = pd.DataFrame(sequence_list, columns=['seq_id', 'reads', 'id2', 'seq_qc'])\n",
    "    print(f\"The count of reads is {len(sequence_df['reads'])}\")\n",
    "    print(\"Histogram of read lengths\")\n",
    "    dist = sequence_df['reads'].apply(len)\n",
    "    print(f\"read_distribution {dist.describe()}\")\n",
    "    print(\"*******************************\")\n",
    "    print(\"Histogram of read lengths\")\n",
    "    plt.hist(x=dist, bins=50, color='#0504aa', alpha=0.7, rwidth=0.85)\n",
    "    plt.grid(axis='y', alpha=0.75)\n",
    "    plt.xlabel('Read Length')\n",
    "    plt.ylabel('Frequency')\n",
    "    plt.title('Distribution of Read Length')\n",
    "    plt.show()\n",
    "    return sequence_df"
   ]
  },
  {
   "cell_type": "code",
   "execution_count": 14,
   "metadata": {},
   "outputs": [
    {
     "name": "stdout",
     "output_type": "stream",
     "text": [
      "The count of reads is 176406\n",
      "Histogram of read lengths\n",
      "read_distribution count    176406.000000\n",
      "mean        602.286130\n",
      "std         263.768671\n",
      "min         201.000000\n",
      "25%         363.000000\n",
      "50%         576.000000\n",
      "75%         821.000000\n",
      "max        1101.000000\n",
      "Name: reads, dtype: float64\n",
      "*******************************\n",
      "Histogram of read lengths\n"
     ]
    },
    {
     "data": {
      "image/png": "[encoded data removed]",
      "text/plain": [
       "<Figure size 432x288 with 1 Axes>"
      ]
     },
     "metadata": {
      "needs_background": "light"
     },
     "output_type": "display_data"
    }
   ],
   "source": [
    "df = parse_fastq('sra_data/SRR17066006.fastq')"
   ]
  },
  {
   "cell_type": "code",
   "execution_count": null,
   "metadata": {},
   "outputs": [],
   "source": []
  }
 ],
 "metadata": {
  "kernelspec": {
   "display_name": "Python 3 (ipykernel)",
   "language": "python",
   "name": "python3"
  },
  "language_info": {
   "codemirror_mode": {
    "name": "ipython",
    "version": 3
   },
   "file_extension": ".py",
   "mimetype": "text/x-python",
   "name": "python",
   "nbconvert_exporter": "python",
   "pygments_lexer": "ipython3",
   "version": "3.8.2"
  }
 },
 "nbformat": 4,
 "nbformat_minor": 1
}
