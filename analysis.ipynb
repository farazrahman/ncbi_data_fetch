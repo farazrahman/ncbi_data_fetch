{
 "cells": [
  {
   "cell_type": "code",
   "execution_count": 14,
   "metadata": {},
   "outputs": [],
   "source": [
    "import pandas as pd\n",
    "import seaborn as sns\n",
    "import matplotlib.pyplot as plt"
   ]
  },
  {
   "cell_type": "code",
   "execution_count": 15,
   "metadata": {},
   "outputs": [
    {
     "data": {
      "text/plain": [
       "['@SRR17066006.1 1 length=466',\n",
       " 'TATGTACTTCGTTCAATTATAGATACAGGTTGTTTAACCAAGCGTTGAAACCTTTTGTCCTCTCGTTTTCGCATTTATCGTGAAACGCTTTCGCGTTTTTCGTGCGCCGCTTCACTGAAATCTATCAGGCCGGTAACAAACCTTGTAATGGTGTTGCAGGTTTTAATTGTTACTTTCCTTTACGATCATATAGTTTCCGACCACTTATGGTGTTGGTCACCAACCATACAGAGTAGTAGTACTTTCTTTTGAACTTCTACATGCACCAGCAACTGTTTGTGGACCTAAAAGTCTACTAATTTGGTTAAAAACAAATGTGTCAATTTCAACTTCAATGGTTTAAAAGGCACAGGTGTTCTTACTGAGTCTAACAAAAGTTTCTGCCTTTCCAACAATTTGGCAGAGACATTTATGAAGCACTACTGATGCTGTCCGTGATCCACAGACACTTGAGATTCTTGACATT',\n",
       " '+SRR17066006.1 1 length=466',\n",
       " \"(''&'(),44777>4)))('&$###$$%%&'/078*054447;;;:53.+++,,1*,?====<>=@BCG{4>@@ACCF@??>>AEIBA@A@:;:889;<<?;<:;884))))*578=>?AACBAAA><;;::;<<?BCDCAABAACCDCB?>>==?>@><<==?DEDB??>76:::6844:<;;=>=0/0@@?@?@<*****,/6<<C>;<;;<?=>=<:8;55556@ABA@@@@AABAAB@>?@@CCBEE>;=<<;<===>>>=====>?@?>===@>=<88888;<=068<;;:9:;<ACBA@@@ADFNCBBABBA>>=9999CCB?>>>=??=11112;<>5:766322237;;>?=;::311113>@322107,,578**+66:B0//1?BDGCB=<<;:666)))&%&&&%%&&&'+57899@=====<;;;;<?C@@666@A@@AAD@@???A@:6.'%$\",\n",
       " '@SRR17066006.2 2 length=293',\n",
       " 'ATCAACATGCTTCGTTCAGTTACGTATTTGGGTGTTTAACCAAGCGTTGAAACCTTTTGTCCTCTCGTTTTCGCATTTATCGTGAAACGCTTTCGCGTTTTCGTGCGCCGCTTCTGAGTTACTATAGCAGAGATATTACTAATTATTATGCGGACTTTTAAAGTTTCCATTTGGAATCTTGATTACATCATAAACCTCATAATTAAAAATTTATCTAAGTCACTAACTGAAGATAAATATTCTCAATTAGATGAAGAGCAACCAATGGAGATTGATTAAACGAACATAAGAGA',\n",
       " '+SRR17066006.2 2 length=293',\n",
       " \"&%$$$%%&&()))...:***,*)%###$%&)+++,)(((((('')*+/''&&&%&')).35+***118>>=B:9:9::7;<;:99<??=;::;<?=8889475443388/////(((((((.8:<:::989:;@AAB?><;9999827=<<98889=BIB:-+-44+1278A(00557<=<=?@?<<=<:;;;;;=<<<>A@AA>><6666<==<<<=;=>=::::9840('&&&(..<>?:677;?BC>>=:;<:;999::=??@?;645677<>??C5411/0770*))'(\",\n",
       " '@SRR17066006.3 3 length=974',\n",
       " 'ACGTACTTCGTTCAGTTACATTAGGTGTTTAACCAAGCGTTGAAACCTTGTCCTCTCGTTTTCGCATTTATCGTGAAACGCTTTCGCGTTTTCGTGCGCCGCTTCATAGAGCCATCCATGAGCACATAACGTGTGTCAGGGCGTAAACTTTCATAAGCAACAGAACCTTCTAGTACATTGGTATCATAACAATATGGTACTGGCTTACCAGAAGCATCTTTAAAAATTGTACATTCAGCAGCAAAACACGAAGCTGATGTTGCAAAGTCAGTGCCTCTATAAGTTTTGATGGTGTGTAACAGATGTTACCAACTGCACTAAAACTCTAGGTAAGAAATGCAAAAAGTCACCATTAGTTGTGCGTAATATCGTGCCAGGCAAACCAGGCACGACAAAACCCACTTCTCTTGTTATGACTGCAGCAATCAATGGGCAAGCTTTGTCATTAGTATAACTACCACTATGGCTAAACCATGTGTCAAAATCAGCATGTTTGTTAGCAAAACAAGTATCTGTAGATGCTATGTCACAGGTGACACCACCATCAATAACCTTGTATCCTATGATTTCATGAAAAGTCAGTATGTTTAGACATGACATGAACAGGTGTTATTAAATAGAAAATAGCAGCAACAAAAAGGAACACAAGTGTAACTTTAATTAACTGCTTCAACCAATTATTAACAATTTTACCACCCATAAGTGCTATCTTTGTTGTTACAACATTAACAACTTGTCTAGTAGTTGCACATGTCAGCTTAAAGGTAAATTTATTCTTTTTAGCAGCACTACGTATTTGTTTTCGTAGTTGTTCAGACAATGACAATCTTTTAACGTTATATCAAAAGTAATGTTGTGACTTTTGCTACCTGCGCATTAATATGACGCGCACTACGGTCAATACAAACACCAAGGTCACGGGGTGTCATGTTTTTCAACTTTGTTATAGGTGAGCATATAGTTATTACAACTAT',\n",
       " '+SRR17066006.3 3 length=974']"
      ]
     },
     "execution_count": 15,
     "metadata": {},
     "output_type": "execute_result"
    }
   ],
   "source": [
    "def _read_fastq(input_file):\n",
    "    # open and read all lines in the fastq file\n",
    "    read_lines = []\n",
    "    with open(input_file, 'r') as fastq_file:\n",
    "        for lines in fastq_file:\n",
    "            read_lines.append(lines.rstrip('\\n'))\n",
    "        return read_lines\n",
    "\n",
    "    \n",
    "all_fastq_lines = _read_fastq('sra_data/SRR17066006.fastq')[:11]\n",
    "all_fastq_lines"
   ]
  },
  {
   "cell_type": "code",
   "execution_count": 16,
   "metadata": {},
   "outputs": [
    {
     "data": {
      "text/plain": [
       "['@SRR17066006.1 1 length=466',\n",
       " 'TATGTACTTCGTTCAATTATAGATACAGGTTGTTTAACCAAGCGTTGAAACCTTTTGTCCTCTCGTTTTCGCATTTATCGTGAAACGCTTTCGCGTTTTTCGTGCGCCGCTTCACTGAAATCTATCAGGCCGGTAACAAACCTTGTAATGGTGTTGCAGGTTTTAATTGTTACTTTCCTTTACGATCATATAGTTTCCGACCACTTATGGTGTTGGTCACCAACCATACAGAGTAGTAGTACTTTCTTTTGAACTTCTACATGCACCAGCAACTGTTTGTGGACCTAAAAGTCTACTAATTTGGTTAAAAACAAATGTGTCAATTTCAACTTCAATGGTTTAAAAGGCACAGGTGTTCTTACTGAGTCTAACAAAAGTTTCTGCCTTTCCAACAATTTGGCAGAGACATTTATGAAGCACTACTGATGCTGTCCGTGATCCACAGACACTTGAGATTCTTGACATT',\n",
       " '+SRR17066006.1 1 length=466',\n",
       " \"(''&'(),44777>4)))('&$###$$%%&'/078*054447;;;:53.+++,,1*,?====<>=@BCG{4>@@ACCF@??>>AEIBA@A@:;:889;<<?;<:;884))))*578=>?AACBAAA><;;::;<<?BCDCAABAACCDCB?>>==?>@><<==?DEDB??>76:::6844:<;;=>=0/0@@?@?@<*****,/6<<C>;<;;<?=>=<:8;55556@ABA@@@@AABAAB@>?@@CCBEE>;=<<;<===>>>=====>?@?>===@>=<88888;<=068<;;:9:;<ACBA@@@ADFNCBBABBA>>=9999CCB?>>>=??=11112;<>5:766322237;;>?=;::311113>@322107,,578**+66:B0//1?BDGCB=<<;:666)))&%&&&%%&&&'+57899@=====<;;;;<?C@@666@A@@AAD@@???A@:6.'%$\"]"
      ]
     },
     "execution_count": 16,
     "metadata": {},
     "output_type": "execute_result"
    }
   ],
   "source": [
    "def parse_fastq(input_file):\n",
    "    sequence_list = []\n",
    "    fastq_lines = _read_fastq(input_file=input_file)\n",
    "    # break into groups of 4\n",
    "    for line in range(0, len(fastq_lines), 4):\n",
    "        single_sequence = fastq_lines[line:line + 4]\n",
    "        sequence_list.append(single_sequence)\n",
    "        \n",
    "    return sequence_list\n",
    "  \n",
    "sequence_list = parse_fastq('sra_data/SRR17066006.fastq')\n",
    "\n",
    "# check a single list of sequence that has four elements id, reads, id2 and quality\n",
    "sequence_list[0]"
   ]
  },
  {
   "cell_type": "code",
   "execution_count": 17,
   "metadata": {},
   "outputs": [
    {
     "data": {
      "text/html": [
       "<div>\n",
       "<style scoped>\n",
       "    .dataframe tbody tr th:only-of-type {\n",
       "        vertical-align: middle;\n",
       "    }\n",
       "\n",
       "    .dataframe tbody tr th {\n",
       "        vertical-align: top;\n",
       "    }\n",
       "\n",
       "    .dataframe thead th {\n",
       "        text-align: right;\n",
       "    }\n",
       "</style>\n",
       "<table border=\"1\" class=\"dataframe\">\n",
       "  <thead>\n",
       "    <tr style=\"text-align: right;\">\n",
       "      <th></th>\n",
       "      <th>seq_id</th>\n",
       "      <th>reads</th>\n",
       "      <th>id2</th>\n",
       "      <th>seq_qc</th>\n",
       "    </tr>\n",
       "  </thead>\n",
       "  <tbody>\n",
       "    <tr>\n",
       "      <th>0</th>\n",
       "      <td>@SRR17066006.1 1 length=466</td>\n",
       "      <td>TATGTACTTCGTTCAATTATAGATACAGGTTGTTTAACCAAGCGTT...</td>\n",
       "      <td>+SRR17066006.1 1 length=466</td>\n",
       "      <td>(''&amp;'(),44777&gt;4)))('&amp;$###$$%%&amp;'/078*054447;;;:...</td>\n",
       "    </tr>\n",
       "    <tr>\n",
       "      <th>1</th>\n",
       "      <td>@SRR17066006.2 2 length=293</td>\n",
       "      <td>ATCAACATGCTTCGTTCAGTTACGTATTTGGGTGTTTAACCAAGCG...</td>\n",
       "      <td>+SRR17066006.2 2 length=293</td>\n",
       "      <td>&amp;%$$$%%&amp;&amp;()))...:***,*)%###$%&amp;)+++,)(((((('')*...</td>\n",
       "    </tr>\n",
       "    <tr>\n",
       "      <th>2</th>\n",
       "      <td>@SRR17066006.3 3 length=974</td>\n",
       "      <td>ACGTACTTCGTTCAGTTACATTAGGTGTTTAACCAAGCGTTGAAAC...</td>\n",
       "      <td>+SRR17066006.3 3 length=974</td>\n",
       "      <td>'(*))&amp;&amp;'',,-6)&amp;&amp;('%$##$$$$%,,5/0//0015&lt;&lt;&lt;&amp;&amp;&amp;&amp;%...</td>\n",
       "    </tr>\n",
       "    <tr>\n",
       "      <th>3</th>\n",
       "      <td>@SRR17066006.4 4 length=361</td>\n",
       "      <td>CTTGTACTTCGTTCAGTTACTGTCATTGGGTGTTTAACCAATGATT...</td>\n",
       "      <td>+SRR17066006.4 4 length=361</td>\n",
       "      <td>,./1766789999,))),+)&amp;$%$$$%$%&amp;'(**+*++*+'&amp;&amp;&amp;&amp;'...</td>\n",
       "    </tr>\n",
       "    <tr>\n",
       "      <th>4</th>\n",
       "      <td>@SRR17066006.5 5 length=1096</td>\n",
       "      <td>TGTCGCGTTTCAATTAGCATTGGGTGTTTTAACCAAGCGTTGAAAC...</td>\n",
       "      <td>+SRR17066006.5 5 length=1096</td>\n",
       "      <td>%$$%%%%&amp;'+,('&amp;&amp;%%$$$%%%&amp;')78&lt;156557767;97('&amp;)*...</td>\n",
       "    </tr>\n",
       "  </tbody>\n",
       "</table>\n",
       "</div>"
      ],
      "text/plain": [
       "                         seq_id  \\\n",
       "0   @SRR17066006.1 1 length=466   \n",
       "1   @SRR17066006.2 2 length=293   \n",
       "2   @SRR17066006.3 3 length=974   \n",
       "3   @SRR17066006.4 4 length=361   \n",
       "4  @SRR17066006.5 5 length=1096   \n",
       "\n",
       "                                               reads  \\\n",
       "0  TATGTACTTCGTTCAATTATAGATACAGGTTGTTTAACCAAGCGTT...   \n",
       "1  ATCAACATGCTTCGTTCAGTTACGTATTTGGGTGTTTAACCAAGCG...   \n",
       "2  ACGTACTTCGTTCAGTTACATTAGGTGTTTAACCAAGCGTTGAAAC...   \n",
       "3  CTTGTACTTCGTTCAGTTACTGTCATTGGGTGTTTAACCAATGATT...   \n",
       "4  TGTCGCGTTTCAATTAGCATTGGGTGTTTTAACCAAGCGTTGAAAC...   \n",
       "\n",
       "                            id2  \\\n",
       "0   +SRR17066006.1 1 length=466   \n",
       "1   +SRR17066006.2 2 length=293   \n",
       "2   +SRR17066006.3 3 length=974   \n",
       "3   +SRR17066006.4 4 length=361   \n",
       "4  +SRR17066006.5 5 length=1096   \n",
       "\n",
       "                                              seq_qc  \n",
       "0  (''&'(),44777>4)))('&$###$$%%&'/078*054447;;;:...  \n",
       "1  &%$$$%%&&()))...:***,*)%###$%&)+++,)(((((('')*...  \n",
       "2  '(*))&&'',,-6)&&('%$##$$$$%,,5/0//0015<<<&&&&%...  \n",
       "3  ,./1766789999,))),+)&$%$$$%$%&'(**+*++*+'&&&&'...  \n",
       "4  %$$%%%%&'+,('&&%%$$$%%%&')78<156557767;97('&)*...  "
      ]
     },
     "execution_count": 17,
     "metadata": {},
     "output_type": "execute_result"
    }
   ],
   "source": [
    "# make a dataframe of the sequence list\n",
    "sequence_df = pd.DataFrame(sequence_list, columns=['seq_id', 'reads', 'id2', 'seq_qc'])\n",
    "\n",
    "# Inspect the first 5 rows and check if correct values are present in each attribute or not\n",
    "sequence_df.head(5)"
   ]
  },
  {
   "cell_type": "code",
   "execution_count": 18,
   "metadata": {},
   "outputs": [
    {
     "name": "stdout",
     "output_type": "stream",
     "text": [
      "The count of reads is 176406\n"
     ]
    }
   ],
   "source": [
    "print(f\"The count of reads is {len(sequence_df['reads'])}\")"
   ]
  },
  {
   "cell_type": "code",
   "execution_count": 19,
   "metadata": {},
   "outputs": [
    {
     "name": "stdout",
     "output_type": "stream",
     "text": [
      "Histogram of read lengths\n"
     ]
    },
    {
     "data": {
      "image/png": "[encoded data removed]",
      "text/plain": [
       "<Figure size 432x288 with 1 Axes>"
      ]
     },
     "metadata": {
      "needs_background": "light"
     },
     "output_type": "display_data"
    }
   ],
   "source": [
    "dist = sequence_df['reads'].apply(len)\n",
    "print(\"Histogram of read lengths\")\n",
    "plt.hist(x=dist, bins=50, color='#0504aa', alpha=0.7, rwidth=0.85)\n",
    "plt.grid(axis='y', alpha=0.75)\n",
    "plt.xlabel('Read Length')\n",
    "plt.ylabel('Frequency')\n",
    "plt.title('Distribution of Read Length')\n",
    "plt.show()\n",
    "    "
   ]
  },
  {
   "cell_type": "code",
   "execution_count": 20,
   "metadata": {},
   "outputs": [
    {
     "name": "stdout",
     "output_type": "stream",
     "text": [
      "***read_distribution***\n"
     ]
    },
    {
     "data": {
      "text/plain": [
       "count    176406.000000\n",
       "mean        601.286130\n",
       "std         263.768671\n",
       "min         200.000000\n",
       "25%         362.000000\n",
       "50%         575.000000\n",
       "75%         820.000000\n",
       "max        1100.000000\n",
       "Name: reads, dtype: float64"
      ]
     },
     "execution_count": 20,
     "metadata": {},
     "output_type": "execute_result"
    }
   ],
   "source": [
    "print(\"***read_distribution***\")\n",
    "\n",
    "dist.describe()"
   ]
  },
  {
   "cell_type": "code",
   "execution_count": 27,
   "metadata": {},
   "outputs": [
    {
     "data": {
      "text/plain": [
       "Text(0.5, 1.0, 'Read length percentiles')"
      ]
     },
     "execution_count": 27,
     "metadata": {},
     "output_type": "execute_result"
    },
    {
     "data": {
      "image/png": "[encoded data removed]",
      "text/plain": [
       "<Figure size 432x288 with 1 Axes>"
      ]
     },
     "metadata": {
      "needs_background": "light"
     },
     "output_type": "display_data"
    }
   ],
   "source": [
    "sns.boxplot(y= dist, color = 'orange')\n",
    "plt.title('Read length percentiles')"
   ]
  },
  {
   "cell_type": "code",
   "execution_count": null,
   "metadata": {},
   "outputs": [],
   "source": []
  }
 ],
 "metadata": {
  "kernelspec": {
   "display_name": "Python 3 (ipykernel)",
   "language": "python",
   "name": "python3"
  },
  "language_info": {
   "codemirror_mode": {
    "name": "ipython",
    "version": 3
   },
   "file_extension": ".py",
   "mimetype": "text/x-python",
   "name": "python",
   "nbconvert_exporter": "python",
   "pygments_lexer": "ipython3",
   "version": "3.8.2"
  }
 },
 "nbformat": 4,
 "nbformat_minor": 1
}
